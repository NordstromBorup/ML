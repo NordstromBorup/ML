{
  "nbformat": 4,
  "nbformat_minor": 0,
  "metadata": {
    "colab": {
      "name": "LR_example.ipynb",
      "version": "0.3.2",
      "provenance": [],
      "collapsed_sections": [],
      "include_colab_link": true
    },
    "kernelspec": {
      "name": "python3",
      "display_name": "Python 3"
    }
  },
  "cells": [
    {
      "cell_type": "markdown",
      "metadata": {
        "id": "view-in-github",
        "colab_type": "text"
      },
      "source": [
        "<a href=\"https://colab.research.google.com/github/NordstromBorup/hello-world/blob/master/LR_example.ipynb\" target=\"_parent\"><img src=\"https://colab.research.google.com/assets/colab-badge.svg\" alt=\"Open In Colab\"/></a>"
      ]
    },
    {
      "cell_type": "code",
      "metadata": {
        "id": "OKVSuL6t4OgW",
        "colab_type": "code",
        "colab": {}
      },
      "source": [
        "import numpy as np\n",
        "np.random.seed(1)"
      ],
      "execution_count": 0,
      "outputs": []
    },
    {
      "cell_type": "code",
      "metadata": {
        "id": "meJJtfEJ4_Kc",
        "colab_type": "code",
        "colab": {}
      },
      "source": [
        "X = np.array([[0,1,0],\n",
        "              [1,0,0],\n",
        "              [1,1,1],\n",
        "              [0,1,1]])"
      ],
      "execution_count": 0,
      "outputs": []
    },
    {
      "cell_type": "code",
      "metadata": {
        "id": "7qAvmtQT5D4R",
        "colab_type": "code",
        "colab": {
          "base_uri": "https://localhost:8080/",
          "height": 85
        },
        "outputId": "5c16f3d5-ce81-4e82-ac0e-9102e32a0591"
      },
      "source": [
        "X"
      ],
      "execution_count": 37,
      "outputs": [
        {
          "output_type": "execute_result",
          "data": {
            "text/plain": [
              "array([[0, 1, 0],\n",
              "       [1, 0, 0],\n",
              "       [1, 1, 1],\n",
              "       [0, 1, 1]])"
            ]
          },
          "metadata": {
            "tags": []
          },
          "execution_count": 37
        }
      ]
    },
    {
      "cell_type": "code",
      "metadata": {
        "id": "WdVyv9Xl5ANQ",
        "colab_type": "code",
        "colab": {}
      },
      "source": [
        "y = np.array([[0,1,1,0]]).T"
      ],
      "execution_count": 0,
      "outputs": []
    },
    {
      "cell_type": "code",
      "metadata": {
        "id": "9mf686D85DEl",
        "colab_type": "code",
        "colab": {
          "base_uri": "https://localhost:8080/",
          "height": 85
        },
        "outputId": "10ce3eeb-fd5c-40cb-c093-2aaa70f675e9"
      },
      "source": [
        "y"
      ],
      "execution_count": 39,
      "outputs": [
        {
          "output_type": "execute_result",
          "data": {
            "text/plain": [
              "array([[0],\n",
              "       [1],\n",
              "       [1],\n",
              "       [0]])"
            ]
          },
          "metadata": {
            "tags": []
          },
          "execution_count": 39
        }
      ]
    },
    {
      "cell_type": "code",
      "metadata": {
        "id": "NfcsaR-85GcU",
        "colab_type": "code",
        "colab": {}
      },
      "source": [
        "def sigmoid(x):\n",
        "    return 1/(1+np.exp(-x))"
      ],
      "execution_count": 0,
      "outputs": []
    },
    {
      "cell_type": "markdown",
      "metadata": {
        "id": "h0i6wLn45Tl-",
        "colab_type": "text"
      },
      "source": [
        "Alle vægte (W og b) skal have en startværdi. Her giver vi W en random værdi mellem -1 og 1 - mens b sættes til 0."
      ]
    },
    {
      "cell_type": "code",
      "metadata": {
        "id": "DSTNYLKh5Jnj",
        "colab_type": "code",
        "colab": {}
      },
      "source": [
        "\n",
        "W = 2*np.random.random((3,1)) - 1\n",
        "b = 0"
      ],
      "execution_count": 0,
      "outputs": []
    },
    {
      "cell_type": "code",
      "metadata": {
        "id": "YVdbRzq55NRq",
        "colab_type": "code",
        "colab": {
          "base_uri": "https://localhost:8080/",
          "height": 68
        },
        "outputId": "cb012d4c-f7af-48fe-903b-1c1b526b7967"
      },
      "source": [
        "W"
      ],
      "execution_count": 42,
      "outputs": [
        {
          "output_type": "execute_result",
          "data": {
            "text/plain": [
              "array([[-0.16595599],\n",
              "       [ 0.44064899],\n",
              "       [-0.99977125]])"
            ]
          },
          "metadata": {
            "tags": []
          },
          "execution_count": 42
        }
      ]
    },
    {
      "cell_type": "code",
      "metadata": {
        "id": "FBHlelR05iba",
        "colab_type": "code",
        "colab": {
          "base_uri": "https://localhost:8080/",
          "height": 34
        },
        "outputId": "a278a755-a5d7-49bb-d352-55f9d2babc14"
      },
      "source": [
        "b"
      ],
      "execution_count": 43,
      "outputs": [
        {
          "output_type": "execute_result",
          "data": {
            "text/plain": [
              "0"
            ]
          },
          "metadata": {
            "tags": []
          },
          "execution_count": 43
        }
      ]
    },
    {
      "cell_type": "markdown",
      "metadata": {
        "id": "tztyUpY_58Lp",
        "colab_type": "text"
      },
      "source": [
        "Værdierne af vores funktion gemmes i en array (z)."
      ]
    },
    {
      "cell_type": "code",
      "metadata": {
        "id": "pSVd7zL35uRR",
        "colab_type": "code",
        "colab": {}
      },
      "source": [
        "z = X.dot(W) + b"
      ],
      "execution_count": 0,
      "outputs": []
    },
    {
      "cell_type": "code",
      "metadata": {
        "id": "C2yzUm5F6MMS",
        "colab_type": "code",
        "colab": {
          "base_uri": "https://localhost:8080/",
          "height": 85
        },
        "outputId": "8d06906b-49aa-4aac-cd1e-9b6f379840ae"
      },
      "source": [
        "z"
      ],
      "execution_count": 45,
      "outputs": [
        {
          "output_type": "execute_result",
          "data": {
            "text/plain": [
              "array([[ 0.44064899],\n",
              "       [-0.16595599],\n",
              "       [-0.72507825],\n",
              "       [-0.55912226]])"
            ]
          },
          "metadata": {
            "tags": []
          },
          "execution_count": 45
        }
      ]
    },
    {
      "cell_type": "markdown",
      "metadata": {
        "id": "c0R4CMza6dd5",
        "colab_type": "text"
      },
      "source": [
        "Herefter sendes værdierne gennem en sigmoid funktion for at begrænse udfaldsrummet til at være mellem 0 og 1."
      ]
    },
    {
      "cell_type": "code",
      "metadata": {
        "id": "6iUrX5I86Nkx",
        "colab_type": "code",
        "colab": {}
      },
      "source": [
        "A = sigmoid(z)"
      ],
      "execution_count": 0,
      "outputs": []
    },
    {
      "cell_type": "code",
      "metadata": {
        "id": "QoFwwedz6w54",
        "colab_type": "code",
        "colab": {
          "base_uri": "https://localhost:8080/",
          "height": 85
        },
        "outputId": "7b1ee5ed-81c4-4211-e433-73d386bcd1ed"
      },
      "source": [
        "A"
      ],
      "execution_count": 47,
      "outputs": [
        {
          "output_type": "execute_result",
          "data": {
            "text/plain": [
              "array([[0.60841366],\n",
              "       [0.45860596],\n",
              "       [0.3262757 ],\n",
              "       [0.36375058]])"
            ]
          },
          "metadata": {
            "tags": []
          },
          "execution_count": 47
        }
      ]
    },
    {
      "cell_type": "markdown",
      "metadata": {
        "id": "f6rd79EG68q4",
        "colab_type": "text"
      },
      "source": [
        "For at kunne beregne hvor godt det initiale gæt er bruges vores 'tabsfunktion'"
      ]
    },
    {
      "cell_type": "code",
      "metadata": {
        "id": "yLW0gAlw6yLQ",
        "colab_type": "code",
        "colab": {}
      },
      "source": [
        "def bce_loss(y,y_hat):\n",
        "    N = y.shape[0]\n",
        "    loss = -1/N * np.sum((y*np.log(y_hat) + (1 - y)*np.log(1-y_hat)))\n",
        "    return loss"
      ],
      "execution_count": 0,
      "outputs": []
    },
    {
      "cell_type": "code",
      "metadata": {
        "id": "AsPysHNi7G8f",
        "colab_type": "code",
        "colab": {}
      },
      "source": [
        "loss = bce_loss(y,A)"
      ],
      "execution_count": 0,
      "outputs": []
    },
    {
      "cell_type": "code",
      "metadata": {
        "id": "n-uruKkD7JSo",
        "colab_type": "code",
        "colab": {
          "base_uri": "https://localhost:8080/",
          "height": 34
        },
        "outputId": "f20ef8c5-a295-4afe-b4bf-558e146f54c2"
      },
      "source": [
        "print (loss)"
      ],
      "execution_count": 50,
      "outputs": [
        {
          "output_type": "stream",
          "text": [
            "0.8223225820877986\n"
          ],
          "name": "stdout"
        }
      ]
    },
    {
      "cell_type": "code",
      "metadata": {
        "id": "zB4E4Uay7KTK",
        "colab_type": "code",
        "colab": {}
      },
      "source": [
        ""
      ],
      "execution_count": 0,
      "outputs": []
    },
    {
      "cell_type": "code",
      "metadata": {
        "id": "qbUnZPId7mQV",
        "colab_type": "code",
        "colab": {}
      },
      "source": [
        "alpha = 1\n",
        "epochs = 20"
      ],
      "execution_count": 0,
      "outputs": []
    },
    {
      "cell_type": "code",
      "metadata": {
        "id": "eednpYwU7z2S",
        "colab_type": "code",
        "colab": {}
      },
      "source": [
        "N = y.shape[0]\n",
        "losses = []"
      ],
      "execution_count": 0,
      "outputs": []
    },
    {
      "cell_type": "code",
      "metadata": {
        "id": "9frYjWNa74DL",
        "colab_type": "code",
        "colab": {
          "base_uri": "https://localhost:8080/",
          "height": 357
        },
        "outputId": "0024f2ca-a843-4b79-8131-9abfe5341255"
      },
      "source": [
        "for i in range(epochs):\n",
        "    # Forward pass\n",
        "    z = X.dot(W) + b \n",
        "    A = sigmoid(z)\n",
        "    \n",
        "    # Calculate loss\n",
        "    loss = bce_loss(y,A)\n",
        "    print('Epoch:',i,'Loss:',loss)\n",
        "    losses.append(loss)\n",
        "    \n",
        "    # Calculate derivatives\n",
        "    dz = (A - y)\n",
        "    dW = 1/N * np.dot(X.T,dz)\n",
        "    db = 1/N * np.sum(dz,axis=0,keepdims=True)    \n",
        "    \n",
        "    # Parameter updates\n",
        "    W -= alpha * dW\n",
        "    b -= alpha * db"
      ],
      "execution_count": 53,
      "outputs": [
        {
          "output_type": "stream",
          "text": [
            "Epoch: 0 Loss: 0.8223225820877986\n",
            "Epoch: 1 Loss: 0.7228974481248197\n",
            "Epoch: 2 Loss: 0.6468376512082379\n",
            "Epoch: 3 Loss: 0.5841161222414706\n",
            "Epoch: 4 Loss: 0.5309081610241326\n",
            "Epoch: 5 Loss: 0.4852371787200559\n",
            "Epoch: 6 Loss: 0.4457477501179715\n",
            "Epoch: 7 Loss: 0.41139116414773486\n",
            "Epoch: 8 Loss: 0.3813260937620897\n",
            "Epoch: 9 Loss: 0.3548699981270737\n",
            "Epoch: 10 Loss: 0.33146603610936654\n",
            "Epoch: 11 Loss: 0.31065770214125676\n",
            "Epoch: 12 Loss: 0.29206886323178305\n",
            "Epoch: 13 Loss: 0.2753879903521693\n",
            "Epoch: 14 Loss: 0.26035569591451885\n",
            "Epoch: 15 Loss: 0.24675486898129195\n",
            "Epoch: 16 Loss: 0.23440284462420913\n",
            "Epoch: 17 Loss: 0.22314516463044204\n",
            "Epoch: 18 Loss: 0.21285058466964538\n",
            "Epoch: 19 Loss: 0.20340706040115034\n"
          ],
          "name": "stdout"
        }
      ]
    },
    {
      "cell_type": "code",
      "metadata": {
        "id": "Cn057Sa478lw",
        "colab_type": "code",
        "colab": {
          "base_uri": "https://localhost:8080/",
          "height": 283
        },
        "outputId": "65fffea8-6d12-443c-ce9c-0556110f2c3f"
      },
      "source": [
        "import matplotlib.pyplot as plt\n",
        "plt.plot(losses)\n",
        "plt.xlabel('epoch')\n",
        "plt.ylabel('loss')\n",
        "plt.show()"
      ],
      "execution_count": 54,
      "outputs": [
        {
          "output_type": "display_data",
          "data": {
            "image/png": "[encoded data removed]",
            "text/plain": [
              "<Figure size 432x288 with 1 Axes>"
            ]
          },
          "metadata": {
            "tags": []
          }
        }
      ]
    },
    {
      "cell_type": "code",
      "metadata": {
        "id": "hDpZG1-S8WPo",
        "colab_type": "code",
        "colab": {}
      },
      "source": [
        ""
      ],
      "execution_count": 0,
      "outputs": []
    }
  ]
}